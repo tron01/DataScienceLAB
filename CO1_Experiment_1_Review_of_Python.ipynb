{
  "nbformat": 4,
  "nbformat_minor": 0,
  "metadata": {
    "colab": {
      "provenance": []
    },
    "kernelspec": {
      "name": "python3",
      "display_name": "Python 3"
    },
    "language_info": {
      "name": "python"
    }
  },
  "cells": [
    {
      "cell_type": "markdown",
      "source": [
        "**Make a duplicate copy of google colab by clicking File/ Save a copy in Drive option. A duplicate copy will get created. It will open up in the new tab on your web browser .After that change share settings**"
      ],
      "metadata": {
        "id": "JPO2N87D8IRe"
      }
    },
    {
      "cell_type": "markdown",
      "source": [
        "1. Write  code to\n",
        "    a)Create different numeric data , print its value and type\n",
        "\n",
        "    b) Perform addition subtraction multiplication and division on numbers in Python"
      ],
      "metadata": {
        "id": "WsCsaDKhSm-Y"
      }
    },
    {
      "cell_type": "code",
      "execution_count": null,
      "metadata": {
        "id": "Bqjt3ad7SaA8",
        "colab": {
          "base_uri": "https://localhost:8080/"
        },
        "outputId": "43e0da76-7109-478a-aea8-a2dbe5f17a1e"
      },
      "outputs": [
        {
          "output_type": "stream",
          "name": "stdout",
          "text": [
            "1\n",
            "10\n",
            "0.1\n",
            "10\n",
            "11\n",
            "-9\n"
          ]
        }
      ],
      "source": [
        "#write your code here\n",
        "a=1\n",
        "b=10\n",
        "print(a)\n",
        "print(b)\n",
        "print(a/b)\n",
        "print(a*b)\n",
        "print(a+b)\n",
        "print(a-b)"
      ]
    },
    {
      "cell_type": "markdown",
      "source": [
        " 2. Write code to\n",
        "    1. Create a list contain Reg No., Name and Mark of 2 subjects(out of 100) of a student and Append one more mark to the  \n",
        "    2. Print the list"
      ],
      "metadata": {
        "id": "V5ydmNjLW4vN"
      }
    },
    {
      "cell_type": "code",
      "source": [
        "#write your code here\n",
        "l =[1,\"abhi\",50,60]\n",
        "print(l)\n",
        "l.append(80)\n",
        "print(l)"
      ],
      "metadata": {
        "id": "TGN3H7VXW-Yw",
        "colab": {
          "base_uri": "https://localhost:8080/"
        },
        "outputId": "60c1008a-db8b-4a9d-df25-556a9228f55f"
      },
      "execution_count": null,
      "outputs": [
        {
          "output_type": "stream",
          "name": "stdout",
          "text": [
            "[1, 'abhi', 50, 60]\n",
            "[1, 'abhi', 50, 60, 80]\n"
          ]
        }
      ]
    },
    {
      "cell_type": "markdown",
      "source": [
        "** 3. Update the value of the second mark**"
      ],
      "metadata": {
        "id": "r66WzWjnXklb"
      }
    },
    {
      "cell_type": "code",
      "source": [
        "#write your code here\n",
        "\n",
        "print(l)\n",
        "l[3]=88\n",
        "print(l)"
      ],
      "metadata": {
        "id": "1Ata71Qo4hwx",
        "colab": {
          "base_uri": "https://localhost:8080/"
        },
        "outputId": "e05ceb12-c961-4b1d-8373-59142039d81c"
      },
      "execution_count": null,
      "outputs": [
        {
          "output_type": "stream",
          "name": "stdout",
          "text": [
            "[1, 'abhi', 45, 60, 80]\n",
            "[1, 'abhi', 45, 88, 80]\n"
          ]
        }
      ]
    },
    {
      "cell_type": "markdown",
      "source": [
        "** 4. Create a random list contain 10 elements with values between 40 and 80**"
      ],
      "metadata": {
        "id": "y5e0PTKebS7Q"
      }
    },
    {
      "cell_type": "code",
      "source": [
        "#write your code here\n",
        "import random\n",
        "randomlist = []\n",
        "for i in range(0,10):\n",
        "  n = random.randint(40,80)\n",
        "  randomlist.append(n)\n",
        "print(randomlist)"
      ],
      "metadata": {
        "id": "vWglZhwVbXWS",
        "colab": {
          "base_uri": "https://localhost:8080/"
        },
        "outputId": "acada78a-1e6b-4517-c072-b2520c9a7b93"
      },
      "execution_count": null,
      "outputs": [
        {
          "output_type": "stream",
          "name": "stdout",
          "text": [
            "[65, 43, 67, 53, 79, 77, 79, 48, 59, 54]\n"
          ]
        }
      ]
    },
    {
      "cell_type": "markdown",
      "source": [
        "** 5. Decrement the value of each element in the above list**"
      ],
      "metadata": {
        "id": "hIS_o7Zqed8W"
      }
    },
    {
      "cell_type": "code",
      "source": [
        "#write your code here\n",
        "print(randomlist)\n",
        "for i in range(0,10):\n",
        "  randomlist[i]=randomlist[i]-5\n",
        "print(randomlist)\n"
      ],
      "metadata": {
        "id": "wh63a21Mejwj",
        "colab": {
          "base_uri": "https://localhost:8080/"
        },
        "outputId": "b1ea2531-ecd6-4378-cf4c-9517a1dc81bc"
      },
      "execution_count": null,
      "outputs": [
        {
          "output_type": "stream",
          "name": "stdout",
          "text": [
            "[65, 43, 67, 53, 79, 77, 79, 48, 59, 54]\n",
            "[60, 38, 62, 48, 74, 72, 74, 43, 54, 49]\n"
          ]
        }
      ]
    },
    {
      "cell_type": "markdown",
      "source": [
        "**Create a dictionary  store the Name, City and Mobilw number of a person\n",
        "Print the Name and Mobile number**\n"
      ],
      "metadata": {
        "id": "3YZ7ETSRNz2J"
      }
    },
    {
      "cell_type": "code",
      "source": [
        "#wite your code here\n",
        "mydict = {\n",
        "    \"Name\":\"Abhi\",\n",
        "    \"city\":\"kochi\",\n",
        "    \"mobile\": 9928212423\n",
        "}\n",
        "print(mydict)\n",
        "print(mydict[\"Name\"],' :',mydict[\"mobile\"] )"
      ],
      "metadata": {
        "id": "_7pmYpX9OXMR",
        "colab": {
          "base_uri": "https://localhost:8080/"
        },
        "outputId": "d32ddd85-9de7-4290-d33a-b2fb0b59e4fc"
      },
      "execution_count": null,
      "outputs": [
        {
          "output_type": "stream",
          "name": "stdout",
          "text": [
            "{'Name': 'Abhi', 'city': 'kochi', 'mobile': 9928212423}\n",
            "Abhi  : 9928212423\n"
          ]
        }
      ]
    }
  ]
}